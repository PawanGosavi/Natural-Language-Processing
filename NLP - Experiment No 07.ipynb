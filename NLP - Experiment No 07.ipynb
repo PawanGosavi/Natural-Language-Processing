{
  "nbformat": 4,
  "nbformat_minor": 0,
  "metadata": {
    "colab": {
      "provenance": [],
      "collapsed_sections": []
    },
    "kernelspec": {
      "name": "python3",
      "display_name": "Python 3"
    },
    "language_info": {
      "name": "python"
    }
  },
  "cells": [
    {
      "cell_type": "markdown",
      "metadata": {
        "id": "Oc1tclmj-9Eu"
      },
      "source": [
        "# **Exp No.7 : Write a program to identify Part of Speech of English, Hindi & Marathi Text**"
      ]
    },
    {
      "cell_type": "markdown",
      "metadata": {
        "id": "utN0X3xNlWcz"
      },
      "source": [
        "# **Name: Pawan Gosavi MSc IT Part II 6909**"
      ]
    },
    {
      "cell_type": "markdown",
      "metadata": {
        "id": "boZJb0Ap-8c_"
      },
      "source": [
        "The process of classifying words into their parts of speech and labeling them accordingly is known as part-of-speech tagging, POS-tagging, or simply tagging. Parts of speech are also known as word classes or lexical categories. The collection of tags used for a particular task is known as a tagset.\n",
        "\n",
        "Part of Speech example:\n",
        "\n",
        "Input: Everything to permit us.\n",
        "\n",
        "Output: [('Everything', NN),('to', TO), ('permit', VB), ('us', PRP)]\n",
        "\n",
        "A part-of-speech tagger, or POS-tagger, processes a sequence of words, and attaches a part of speech tag to each word "
      ]
    },
    {
      "cell_type": "code",
      "metadata": {
        "id": "3IDxES4PATQ2",
        "colab": {
          "base_uri": "https://localhost:8080/"
        },
        "outputId": "98165250-865c-42d2-bb02-2c50ef99b5b2"
      },
      "source": [
        "!pip install nltk\n",
        "import nltk\n",
        "nltk.download('all')"
      ],
      "execution_count": null,
      "outputs": [
        {
          "output_type": "stream",
          "text": [
            "Requirement already satisfied: nltk in /usr/local/lib/python3.7/dist-packages (3.2.5)\n",
            "Requirement already satisfied: six in /usr/local/lib/python3.7/dist-packages (from nltk) (1.15.0)\n",
            "[nltk_data] Downloading collection 'all'\n",
            "[nltk_data]    | \n",
            "[nltk_data]    | Downloading package abc to /root/nltk_data...\n",
            "[nltk_data]    |   Unzipping corpora/abc.zip.\n",
            "[nltk_data]    | Downloading package alpino to /root/nltk_data...\n",
            "[nltk_data]    |   Unzipping corpora/alpino.zip.\n",
            "[nltk_data]    | Downloading package biocreative_ppi to\n",
            "[nltk_data]    |     /root/nltk_data...\n",
            "[nltk_data]    |   Unzipping corpora/biocreative_ppi.zip.\n",
            "[nltk_data]    | Downloading package brown to /root/nltk_data...\n",
            "[nltk_data]    |   Unzipping corpora/brown.zip.\n",
            "[nltk_data]    | Downloading package brown_tei to /root/nltk_data...\n",
            "[nltk_data]    |   Unzipping corpora/brown_tei.zip.\n",
            "[nltk_data]    | Downloading package cess_cat to /root/nltk_data...\n",
            "[nltk_data]    |   Unzipping corpora/cess_cat.zip.\n",
            "[nltk_data]    | Downloading package cess_esp to /root/nltk_data...\n",
            "[nltk_data]    |   Unzipping corpora/cess_esp.zip.\n",
            "[nltk_data]    | Downloading package chat80 to /root/nltk_data...\n",
            "[nltk_data]    |   Unzipping corpora/chat80.zip.\n",
            "[nltk_data]    | Downloading package city_database to\n",
            "[nltk_data]    |     /root/nltk_data...\n",
            "[nltk_data]    |   Unzipping corpora/city_database.zip.\n",
            "[nltk_data]    | Downloading package cmudict to /root/nltk_data...\n",
            "[nltk_data]    |   Unzipping corpora/cmudict.zip.\n",
            "[nltk_data]    | Downloading package comparative_sentences to\n",
            "[nltk_data]    |     /root/nltk_data...\n",
            "[nltk_data]    |   Unzipping corpora/comparative_sentences.zip.\n",
            "[nltk_data]    | Downloading package comtrans to /root/nltk_data...\n",
            "[nltk_data]    | Downloading package conll2000 to /root/nltk_data...\n",
            "[nltk_data]    |   Unzipping corpora/conll2000.zip.\n",
            "[nltk_data]    | Downloading package conll2002 to /root/nltk_data...\n",
            "[nltk_data]    |   Unzipping corpora/conll2002.zip.\n",
            "[nltk_data]    | Downloading package conll2007 to /root/nltk_data...\n",
            "[nltk_data]    | Downloading package crubadan to /root/nltk_data...\n",
            "[nltk_data]    |   Unzipping corpora/crubadan.zip.\n",
            "[nltk_data]    | Downloading package dependency_treebank to\n",
            "[nltk_data]    |     /root/nltk_data...\n",
            "[nltk_data]    |   Unzipping corpora/dependency_treebank.zip.\n",
            "[nltk_data]    | Downloading package dolch to /root/nltk_data...\n",
            "[nltk_data]    |   Unzipping corpora/dolch.zip.\n",
            "[nltk_data]    | Downloading package europarl_raw to\n",
            "[nltk_data]    |     /root/nltk_data...\n",
            "[nltk_data]    |   Unzipping corpora/europarl_raw.zip.\n",
            "[nltk_data]    | Downloading package floresta to /root/nltk_data...\n",
            "[nltk_data]    |   Unzipping corpora/floresta.zip.\n",
            "[nltk_data]    | Downloading package framenet_v15 to\n",
            "[nltk_data]    |     /root/nltk_data...\n",
            "[nltk_data]    |   Unzipping corpora/framenet_v15.zip.\n",
            "[nltk_data]    | Downloading package framenet_v17 to\n",
            "[nltk_data]    |     /root/nltk_data...\n",
            "[nltk_data]    |   Unzipping corpora/framenet_v17.zip.\n",
            "[nltk_data]    | Downloading package gazetteers to /root/nltk_data...\n",
            "[nltk_data]    |   Unzipping corpora/gazetteers.zip.\n",
            "[nltk_data]    | Downloading package genesis to /root/nltk_data...\n",
            "[nltk_data]    |   Unzipping corpora/genesis.zip.\n",
            "[nltk_data]    | Downloading package gutenberg to /root/nltk_data...\n",
            "[nltk_data]    |   Unzipping corpora/gutenberg.zip.\n",
            "[nltk_data]    | Downloading package ieer to /root/nltk_data...\n",
            "[nltk_data]    |   Unzipping corpora/ieer.zip.\n",
            "[nltk_data]    | Downloading package inaugural to /root/nltk_data...\n",
            "[nltk_data]    |   Unzipping corpora/inaugural.zip.\n",
            "[nltk_data]    | Downloading package indian to /root/nltk_data...\n",
            "[nltk_data]    |   Unzipping corpora/indian.zip.\n",
            "[nltk_data]    | Downloading package jeita to /root/nltk_data...\n",
            "[nltk_data]    | Downloading package kimmo to /root/nltk_data...\n",
            "[nltk_data]    |   Unzipping corpora/kimmo.zip.\n",
            "[nltk_data]    | Downloading package knbc to /root/nltk_data...\n",
            "[nltk_data]    | Downloading package lin_thesaurus to\n",
            "[nltk_data]    |     /root/nltk_data...\n",
            "[nltk_data]    |   Unzipping corpora/lin_thesaurus.zip.\n",
            "[nltk_data]    | Downloading package mac_morpho to /root/nltk_data...\n",
            "[nltk_data]    |   Unzipping corpora/mac_morpho.zip.\n",
            "[nltk_data]    | Downloading package machado to /root/nltk_data...\n",
            "[nltk_data]    | Downloading package masc_tagged to /root/nltk_data...\n",
            "[nltk_data]    | Downloading package moses_sample to\n",
            "[nltk_data]    |     /root/nltk_data...\n",
            "[nltk_data]    |   Unzipping models/moses_sample.zip.\n",
            "[nltk_data]    | Downloading package movie_reviews to\n",
            "[nltk_data]    |     /root/nltk_data...\n",
            "[nltk_data]    |   Unzipping corpora/movie_reviews.zip.\n",
            "[nltk_data]    | Downloading package names to /root/nltk_data...\n",
            "[nltk_data]    |   Unzipping corpora/names.zip.\n",
            "[nltk_data]    | Downloading package nombank.1.0 to /root/nltk_data...\n",
            "[nltk_data]    | Downloading package nps_chat to /root/nltk_data...\n",
            "[nltk_data]    |   Unzipping corpora/nps_chat.zip.\n",
            "[nltk_data]    | Downloading package omw to /root/nltk_data...\n",
            "[nltk_data]    |   Unzipping corpora/omw.zip.\n",
            "[nltk_data]    | Downloading package opinion_lexicon to\n",
            "[nltk_data]    |     /root/nltk_data...\n",
            "[nltk_data]    |   Unzipping corpora/opinion_lexicon.zip.\n",
            "[nltk_data]    | Downloading package paradigms to /root/nltk_data...\n",
            "[nltk_data]    |   Unzipping corpora/paradigms.zip.\n",
            "[nltk_data]    | Downloading package pil to /root/nltk_data...\n",
            "[nltk_data]    |   Unzipping corpora/pil.zip.\n",
            "[nltk_data]    | Downloading package pl196x to /root/nltk_data...\n",
            "[nltk_data]    |   Unzipping corpora/pl196x.zip.\n",
            "[nltk_data]    | Downloading package ppattach to /root/nltk_data...\n",
            "[nltk_data]    |   Unzipping corpora/ppattach.zip.\n",
            "[nltk_data]    | Downloading package problem_reports to\n",
            "[nltk_data]    |     /root/nltk_data...\n",
            "[nltk_data]    |   Unzipping corpora/problem_reports.zip.\n",
            "[nltk_data]    | Downloading package propbank to /root/nltk_data...\n",
            "[nltk_data]    | Downloading package ptb to /root/nltk_data...\n",
            "[nltk_data]    |   Unzipping corpora/ptb.zip.\n",
            "[nltk_data]    | Downloading package product_reviews_1 to\n",
            "[nltk_data]    |     /root/nltk_data...\n",
            "[nltk_data]    |   Unzipping corpora/product_reviews_1.zip.\n",
            "[nltk_data]    | Downloading package product_reviews_2 to\n",
            "[nltk_data]    |     /root/nltk_data...\n",
            "[nltk_data]    |   Unzipping corpora/product_reviews_2.zip.\n",
            "[nltk_data]    | Downloading package pros_cons to /root/nltk_data...\n",
            "[nltk_data]    |   Unzipping corpora/pros_cons.zip.\n",
            "[nltk_data]    | Downloading package qc to /root/nltk_data...\n",
            "[nltk_data]    |   Unzipping corpora/qc.zip.\n",
            "[nltk_data]    | Downloading package reuters to /root/nltk_data...\n",
            "[nltk_data]    | Downloading package rte to /root/nltk_data...\n",
            "[nltk_data]    |   Unzipping corpora/rte.zip.\n",
            "[nltk_data]    | Downloading package semcor to /root/nltk_data...\n",
            "[nltk_data]    | Downloading package senseval to /root/nltk_data...\n",
            "[nltk_data]    |   Unzipping corpora/senseval.zip.\n",
            "[nltk_data]    | Downloading package sentiwordnet to\n",
            "[nltk_data]    |     /root/nltk_data...\n",
            "[nltk_data]    |   Unzipping corpora/sentiwordnet.zip.\n",
            "[nltk_data]    | Downloading package sentence_polarity to\n",
            "[nltk_data]    |     /root/nltk_data...\n",
            "[nltk_data]    |   Unzipping corpora/sentence_polarity.zip.\n",
            "[nltk_data]    | Downloading package shakespeare to /root/nltk_data...\n",
            "[nltk_data]    |   Unzipping corpora/shakespeare.zip.\n",
            "[nltk_data]    | Downloading package sinica_treebank to\n",
            "[nltk_data]    |     /root/nltk_data...\n",
            "[nltk_data]    |   Unzipping corpora/sinica_treebank.zip.\n",
            "[nltk_data]    | Downloading package smultron to /root/nltk_data...\n",
            "[nltk_data]    |   Unzipping corpora/smultron.zip.\n",
            "[nltk_data]    | Downloading package state_union to /root/nltk_data...\n",
            "[nltk_data]    |   Unzipping corpora/state_union.zip.\n",
            "[nltk_data]    | Downloading package stopwords to /root/nltk_data...\n",
            "[nltk_data]    |   Unzipping corpora/stopwords.zip.\n",
            "[nltk_data]    | Downloading package subjectivity to\n",
            "[nltk_data]    |     /root/nltk_data...\n",
            "[nltk_data]    |   Unzipping corpora/subjectivity.zip.\n",
            "[nltk_data]    | Downloading package swadesh to /root/nltk_data...\n",
            "[nltk_data]    |   Unzipping corpora/swadesh.zip.\n",
            "[nltk_data]    | Downloading package switchboard to /root/nltk_data...\n",
            "[nltk_data]    |   Unzipping corpora/switchboard.zip.\n",
            "[nltk_data]    | Downloading package timit to /root/nltk_data...\n",
            "[nltk_data]    |   Unzipping corpora/timit.zip.\n",
            "[nltk_data]    | Downloading package toolbox to /root/nltk_data...\n",
            "[nltk_data]    |   Unzipping corpora/toolbox.zip.\n",
            "[nltk_data]    | Downloading package treebank to /root/nltk_data...\n",
            "[nltk_data]    |   Unzipping corpora/treebank.zip.\n",
            "[nltk_data]    | Downloading package twitter_samples to\n",
            "[nltk_data]    |     /root/nltk_data...\n",
            "[nltk_data]    |   Unzipping corpora/twitter_samples.zip.\n",
            "[nltk_data]    | Downloading package udhr to /root/nltk_data...\n",
            "[nltk_data]    |   Unzipping corpora/udhr.zip.\n",
            "[nltk_data]    | Downloading package udhr2 to /root/nltk_data...\n",
            "[nltk_data]    |   Unzipping corpora/udhr2.zip.\n",
            "[nltk_data]    | Downloading package unicode_samples to\n",
            "[nltk_data]    |     /root/nltk_data...\n",
            "[nltk_data]    |   Unzipping corpora/unicode_samples.zip.\n",
            "[nltk_data]    | Downloading package universal_treebanks_v20 to\n",
            "[nltk_data]    |     /root/nltk_data...\n",
            "[nltk_data]    | Downloading package verbnet to /root/nltk_data...\n",
            "[nltk_data]    |   Unzipping corpora/verbnet.zip.\n",
            "[nltk_data]    | Downloading package verbnet3 to /root/nltk_data...\n",
            "[nltk_data]    |   Unzipping corpora/verbnet3.zip.\n",
            "[nltk_data]    | Downloading package webtext to /root/nltk_data...\n",
            "[nltk_data]    |   Unzipping corpora/webtext.zip.\n",
            "[nltk_data]    | Downloading package wordnet to /root/nltk_data...\n",
            "[nltk_data]    |   Unzipping corpora/wordnet.zip.\n",
            "[nltk_data]    | Downloading package wordnet_ic to /root/nltk_data...\n",
            "[nltk_data]    |   Unzipping corpora/wordnet_ic.zip.\n",
            "[nltk_data]    | Downloading package words to /root/nltk_data...\n",
            "[nltk_data]    |   Unzipping corpora/words.zip.\n",
            "[nltk_data]    | Downloading package ycoe to /root/nltk_data...\n",
            "[nltk_data]    |   Unzipping corpora/ycoe.zip.\n",
            "[nltk_data]    | Downloading package rslp to /root/nltk_data...\n",
            "[nltk_data]    |   Unzipping stemmers/rslp.zip.\n",
            "[nltk_data]    | Downloading package maxent_treebank_pos_tagger to\n",
            "[nltk_data]    |     /root/nltk_data...\n",
            "[nltk_data]    |   Unzipping taggers/maxent_treebank_pos_tagger.zip.\n",
            "[nltk_data]    | Downloading package universal_tagset to\n",
            "[nltk_data]    |     /root/nltk_data...\n",
            "[nltk_data]    |   Unzipping taggers/universal_tagset.zip.\n",
            "[nltk_data]    | Downloading package maxent_ne_chunker to\n",
            "[nltk_data]    |     /root/nltk_data...\n",
            "[nltk_data]    |   Unzipping chunkers/maxent_ne_chunker.zip.\n",
            "[nltk_data]    | Downloading package punkt to /root/nltk_data...\n",
            "[nltk_data]    |   Unzipping tokenizers/punkt.zip.\n",
            "[nltk_data]    | Downloading package book_grammars to\n",
            "[nltk_data]    |     /root/nltk_data...\n",
            "[nltk_data]    |   Unzipping grammars/book_grammars.zip.\n",
            "[nltk_data]    | Downloading package sample_grammars to\n",
            "[nltk_data]    |     /root/nltk_data...\n",
            "[nltk_data]    |   Unzipping grammars/sample_grammars.zip.\n",
            "[nltk_data]    | Downloading package spanish_grammars to\n",
            "[nltk_data]    |     /root/nltk_data...\n",
            "[nltk_data]    |   Unzipping grammars/spanish_grammars.zip.\n",
            "[nltk_data]    | Downloading package basque_grammars to\n",
            "[nltk_data]    |     /root/nltk_data...\n",
            "[nltk_data]    |   Unzipping grammars/basque_grammars.zip.\n",
            "[nltk_data]    | Downloading package large_grammars to\n",
            "[nltk_data]    |     /root/nltk_data...\n",
            "[nltk_data]    |   Unzipping grammars/large_grammars.zip.\n",
            "[nltk_data]    | Downloading package tagsets to /root/nltk_data...\n",
            "[nltk_data]    |   Unzipping help/tagsets.zip.\n",
            "[nltk_data]    | Downloading package snowball_data to\n",
            "[nltk_data]    |     /root/nltk_data...\n",
            "[nltk_data]    | Downloading package bllip_wsj_no_aux to\n",
            "[nltk_data]    |     /root/nltk_data...\n",
            "[nltk_data]    |   Unzipping models/bllip_wsj_no_aux.zip.\n",
            "[nltk_data]    | Downloading package word2vec_sample to\n",
            "[nltk_data]    |     /root/nltk_data...\n",
            "[nltk_data]    |   Unzipping models/word2vec_sample.zip.\n",
            "[nltk_data]    | Downloading package panlex_swadesh to\n",
            "[nltk_data]    |     /root/nltk_data...\n",
            "[nltk_data]    | Downloading package mte_teip5 to /root/nltk_data...\n",
            "[nltk_data]    |   Unzipping corpora/mte_teip5.zip.\n",
            "[nltk_data]    | Downloading package averaged_perceptron_tagger to\n",
            "[nltk_data]    |     /root/nltk_data...\n",
            "[nltk_data]    |   Unzipping taggers/averaged_perceptron_tagger.zip.\n",
            "[nltk_data]    | Downloading package averaged_perceptron_tagger_ru to\n",
            "[nltk_data]    |     /root/nltk_data...\n",
            "[nltk_data]    |   Unzipping\n",
            "[nltk_data]    |       taggers/averaged_perceptron_tagger_ru.zip.\n",
            "[nltk_data]    | Downloading package perluniprops to\n",
            "[nltk_data]    |     /root/nltk_data...\n",
            "[nltk_data]    |   Unzipping misc/perluniprops.zip.\n",
            "[nltk_data]    | Downloading package nonbreaking_prefixes to\n",
            "[nltk_data]    |     /root/nltk_data...\n",
            "[nltk_data]    |   Unzipping corpora/nonbreaking_prefixes.zip.\n",
            "[nltk_data]    | Downloading package vader_lexicon to\n",
            "[nltk_data]    |     /root/nltk_data...\n",
            "[nltk_data]    | Downloading package porter_test to /root/nltk_data...\n",
            "[nltk_data]    |   Unzipping stemmers/porter_test.zip.\n",
            "[nltk_data]    | Downloading package wmt15_eval to /root/nltk_data...\n",
            "[nltk_data]    |   Unzipping models/wmt15_eval.zip.\n",
            "[nltk_data]    | Downloading package mwa_ppdb to /root/nltk_data...\n",
            "[nltk_data]    |   Unzipping misc/mwa_ppdb.zip.\n",
            "[nltk_data]    | \n",
            "[nltk_data]  Done downloading collection all\n"
          ],
          "name": "stdout"
        },
        {
          "output_type": "execute_result",
          "data": {
            "text/plain": [
              "True"
            ]
          },
          "metadata": {
            "tags": []
          },
          "execution_count": 1
        }
      ]
    },
    {
      "cell_type": "code",
      "metadata": {
        "colab": {
          "base_uri": "https://localhost:8080/"
        },
        "id": "csDEOin-AX9z",
        "outputId": "7f6f0610-2cf9-45ee-9ad7-127ca9b65b93"
      },
      "source": [
        "from nltk.tokenize import word_tokenize\n",
        "from nltk.tokenize import sent_tokenize\n",
        "import re\n",
        "import string\n",
        "\n",
        "English_Sentence = \"Burn your ego before it burns you !\"\n",
        "English_Text = re.sub(r\"[^a-zA-Z0-9]\",\" \", English_Sentence)\n",
        "English_Text = word_tokenize(English_Text)\n",
        "Eng_pos_tags = nltk.pos_tag(English_Text)\n",
        "\n",
        "print('\\nSentence : ', English_Sentence, '\\n')\n",
        "\n",
        "print('POS TAGS are : \\n')\n",
        "\n",
        "for i in Eng_pos_tags:\n",
        "    print(i[0] + ' : ' + i[1] + '\\n')"
      ],
      "execution_count": null,
      "outputs": [
        {
          "output_type": "stream",
          "text": [
            "\n",
            "Sentence :  Burn your ego before it burns you ! \n",
            "\n",
            "POS TAGS are : \n",
            "\n",
            "Burn : NNP\n",
            "\n",
            "your : PRP$\n",
            "\n",
            "ego : NN\n",
            "\n",
            "before : IN\n",
            "\n",
            "it : PRP\n",
            "\n",
            "burns : VBZ\n",
            "\n",
            "you : PRP\n",
            "\n"
          ],
          "name": "stdout"
        }
      ]
    },
    {
      "cell_type": "markdown",
      "metadata": {
        "id": "aa6lcf22C5g7"
      },
      "source": [
        "Steps Involved in the POS tagging example:\n",
        "*   Tokenize text (word_tokenize)\n",
        "*   apply pos_tag to above step that is nltk.pos_tag(tokenize_text)\n",
        "NLTK POS Tags Examples are as Below:\n",
        "\n",
        "Abbreviation\tMeaning <br>\n",
        "CC\tcoordinating conjunction <br>\n",
        "CD\tcardinal digit<br>\n",
        "DT\tdeterminer<br>\n",
        "EX\texistential there<br>\n",
        "FW\tforeign word<br>\n",
        "IN\tpreposition/subordinating conjunction<br>\n",
        "JJ\tThis NLTK POS Tag is an adjective (large)<br>\n",
        "JJR\tadjective, comparative (larger)<br>\n",
        "JJS\tadjective, superlative (largest)<br>\n",
        "LS\tlist market<br>\n",
        "MD\tmodal (could, will)<br>\n",
        "NN\tnoun, singular (cat, tree)<br>\n",
        "NNS\tnoun plural (desks)<br>\n",
        "NNP\tproper noun, singular (sarah)<br>\n",
        "NNPS\tproper noun, plural (indians or americans)<br>\n",
        "PDT\tpredeterminer (all, both, half)<br>\n",
        "POS\tpossessive ending (parent\\ 's)<br>\n",
        "PRP\tpersonal pronoun (hers, herself, him,himself)<br>\n",
        "PRP$\tpossessive pronoun (her, his, mine, my, our )<br>\n",
        "RB\tadverb (occasionally, swiftly)<br>\n",
        "RBR\tadverb, comparative (greater)<br>\n",
        "RBS\tadverb, superlative (biggest)<br>\n",
        "RP\tparticle (about)<br>\n",
        "TO\tinfinite marker (to)<br>\n",
        "UH\tinterjection (goodbye)<br>\n",
        "VB\tverb (ask)<br>\n",
        "VBG\tverb gerund (judging)<br>\n",
        "VBD\tverb past tense (pleaded)<br>\n",
        "VBN\tverb past participle (reunified)<br>\n",
        "VBP\tverb, present tense not 3rd person singular(wrap)<br>\n",
        "VBZ\tverb, present tense with 3rd person singular (bases)<br>\n",
        "WDT\twh-determiner (that, what)<br>\n",
        "WP\twh- pronoun (who)<br>\n",
        "WRB\twh- adverb (how)<br>"
      ]
    },
    {
      "cell_type": "markdown",
      "metadata": {
        "id": "9SH_YNBgMwfm"
      },
      "source": [
        "NLTK provides documentation for each tag, which can be queried using the tag, e.g. nltk.help.upenn_tagset('RB')"
      ]
    },
    {
      "cell_type": "code",
      "metadata": {
        "colab": {
          "base_uri": "https://localhost:8080/"
        },
        "id": "_U5Hc_4cMxZk",
        "outputId": "636ef0c9-4c61-42b8-ef37-56ed908447ab"
      },
      "source": [
        "nltk.help.upenn_tagset('NNP')"
      ],
      "execution_count": null,
      "outputs": [
        {
          "output_type": "stream",
          "text": [
            "NNP: noun, proper, singular\n",
            "    Motown Venneboerger Czestochwa Ranzer Conchita Trumplane Christos\n",
            "    Oceanside Escobar Kreisler Sawyer Cougar Yvette Ervin ODI Darryl CTCA\n",
            "    Shannon A.K.C. Meltex Liverpool ...\n"
          ],
          "name": "stdout"
        }
      ]
    },
    {
      "cell_type": "code",
      "metadata": {
        "colab": {
          "base_uri": "https://localhost:8080/"
        },
        "id": "OpM073zbNwDe",
        "outputId": "2c12375e-7739-48e7-e20d-8150ebeae7d0"
      },
      "source": [
        "nltk.help.upenn_tagset('JJ')"
      ],
      "execution_count": null,
      "outputs": [
        {
          "output_type": "stream",
          "text": [
            "JJ: adjective or numeral, ordinal\n",
            "    third ill-mannered pre-war regrettable oiled calamitous first separable\n",
            "    ectoplasmic battery-powered participatory fourth still-to-be-named\n",
            "    multilingual multi-disciplinary ...\n"
          ],
          "name": "stdout"
        }
      ]
    },
    {
      "cell_type": "code",
      "metadata": {
        "colab": {
          "base_uri": "https://localhost:8080/"
        },
        "id": "hS5j5l3cN0qZ",
        "outputId": "9c7d6a2f-e32c-4951-ec59-3cd55c7fe1fa"
      },
      "source": [
        "nltk.help.upenn_tagset('NNS')"
      ],
      "execution_count": null,
      "outputs": [
        {
          "output_type": "stream",
          "text": [
            "NNS: noun, common, plural\n",
            "    undergraduates scotches bric-a-brac products bodyguards facets coasts\n",
            "    divestitures storehouses designs clubs fragrances averages\n",
            "    subjectivists apprehensions muses factory-jobs ...\n"
          ],
          "name": "stdout"
        }
      ]
    },
    {
      "cell_type": "markdown",
      "metadata": {
        "id": "86dvvgZiQIDd"
      },
      "source": [
        "Why POS Tagging is Useful?\n",
        "POS tagging can be really useful, particularly if you have words or tokens that can have multiple POS tags. For instance, the word \"google\" can be used as both a noun and verb, depending upon the context. While processing natural language, it is important to identify this difference. "
      ]
    },
    {
      "cell_type": "code",
      "metadata": {
        "colab": {
          "base_uri": "https://localhost:8080/"
        },
        "id": "_Lxy3cO1StMT",
        "outputId": "ebfebeea-f2f2-43d2-f7c2-90de0353eeba"
      },
      "source": [
        "English_Sentence = \"Can you WhatsApp it?\"\n",
        "English_Text = re.sub(r\"[^a-zA-Z0-9]\",\" \", English_Sentence)\n",
        "English_Text = word_tokenize(English_Text)\n",
        "Eng_pos_tags = nltk.pos_tag(English_Text)\n",
        "\n",
        "print('\\nSentence : ', English_Sentence, '\\n')\n",
        "\n",
        "print('POS TAGS are : \\n')\n",
        "\n",
        "for i in Eng_pos_tags:\n",
        "    print(i[0] + ' : ' + i[1] + '\\n')"
      ],
      "execution_count": null,
      "outputs": [
        {
          "output_type": "stream",
          "text": [
            "\n",
            "Sentence :  Can you WhatsApp it? \n",
            "\n",
            "POS TAGS are : \n",
            "\n",
            "Can : MD\n",
            "\n",
            "you : PRP\n",
            "\n",
            "WhatsApp : VB\n",
            "\n",
            "it : PRP\n",
            "\n"
          ],
          "name": "stdout"
        }
      ]
    },
    {
      "cell_type": "code",
      "metadata": {
        "colab": {
          "base_uri": "https://localhost:8080/"
        },
        "id": "fjCebzyHS1cM",
        "outputId": "2fcfa9b3-cdb2-48a7-aef0-581a0e9a3764"
      },
      "source": [
        "English_Sentence = \"WhatsApp is a Leading Messenger App.\"\n",
        "English_Text = re.sub(r\"[^a-zA-Z0-9]\",\" \", English_Sentence)\n",
        "English_Text = word_tokenize(English_Text)\n",
        "Eng_pos_tags = nltk.pos_tag(English_Text)\n",
        "\n",
        "print('\\nSentence : ', English_Sentence, '\\n')\n",
        "\n",
        "print('POS TAGS are : \\n')\n",
        "\n",
        "for i in Eng_pos_tags:\n",
        "    print(i[0] + ' : ' + i[1] + '\\n')"
      ],
      "execution_count": null,
      "outputs": [
        {
          "output_type": "stream",
          "text": [
            "\n",
            "Sentence :  WhatsApp is a Leading Messenger App. \n",
            "\n",
            "POS TAGS are : \n",
            "\n",
            "WhatsApp : NNP\n",
            "\n",
            "is : VBZ\n",
            "\n",
            "a : DT\n",
            "\n",
            "Leading : VBG\n",
            "\n",
            "Messenger : NNP\n",
            "\n",
            "App : NNP\n",
            "\n"
          ],
          "name": "stdout"
        }
      ]
    },
    {
      "cell_type": "code",
      "metadata": {
        "colab": {
          "base_uri": "https://localhost:8080/"
        },
        "id": "YJyh-MmPsddf",
        "outputId": "22862b7a-10f3-4647-9499-dbd18d6720d2"
      },
      "source": [
        "# For Hindi language\n",
        "\n",
        "from nltk.tag import tnt\n",
        "from nltk.corpus import indian\n",
        "import re\n",
        "import string\n",
        "\n",
        "hindi_train_data = indian.tagged_sents('hindi.pos')\n",
        "tnt_pos_tagger = tnt.TnT()\n",
        "tnt_pos_tagger.train(hindi_train_data)\n",
        "\n",
        "# Hindi Example 1\n",
        "Hindi_Sentence = \"नियत और सोंच अच्छी होनी चाहिए , बातें तो कोई भी अच्छी कर सकता है ।\"\n",
        "Hindi_Text = re.sub('।','', Hindi_Sentence)\n",
        "Hindi_Text = Hindi_Text.translate(str.maketrans('', '', string.punctuation))\n",
        "Hindi_Text = word_tokenize(Hindi_Text)\n",
        "Hindi_pos_tags = tnt_pos_tagger.tag(Hindi_Text)\n",
        "\n",
        "print('\\nSentence : ', Hindi_Sentence, '\\n')\n",
        "\n",
        "print('POS TAGS are : \\n')\n",
        "\n",
        "for i in Hindi_pos_tags:\n",
        "    print(i[0] + ' : ' + i[1] + '\\n')"
      ],
      "execution_count": null,
      "outputs": [
        {
          "output_type": "stream",
          "text": [
            "\n",
            "Sentence :  नियत और सोंच अच्छी होनी चाहिए , बातें तो कोई भी अच्छी कर सकता है । \n",
            "\n",
            "POS TAGS are : \n",
            "\n",
            "नियत : Unk\n",
            "\n",
            "और : CC\n",
            "\n",
            "सोंच : Unk\n",
            "\n",
            "अच्छी : JVB\n",
            "\n",
            "होनी : VNN\n",
            "\n",
            "चाहिए : VFM\n",
            "\n",
            "बातें : Unk\n",
            "\n",
            "तो : CC\n",
            "\n",
            "कोई : QF\n",
            "\n",
            "भी : RP\n",
            "\n",
            "अच्छी : JVB\n",
            "\n",
            "कर : VFM\n",
            "\n",
            "सकता : VAUX\n",
            "\n",
            "है : VAUX\n",
            "\n"
          ],
          "name": "stdout"
        }
      ]
    },
    {
      "cell_type": "code",
      "metadata": {
        "colab": {
          "base_uri": "https://localhost:8080/"
        },
        "id": "ERvqo0-NzkoU",
        "outputId": "821e92ca-f1bc-47d6-f307-f0eaa2f39427"
      },
      "source": [
        "# Hindi Example 2\n",
        "Hindi_Sentence = \"इस बार क्या होगा यह, उनके अलावा किसी को नहीं पता !\"\n",
        "Hindi_Text = re.sub('।','', Hindi_Sentence)\n",
        "Hindi_Text = Hindi_Text.translate(str.maketrans('', '', string.punctuation))\n",
        "Hindi_Text = word_tokenize(Hindi_Text)\n",
        "Hindi_pos_tags = tnt_pos_tagger.tag(Hindi_Text)\n",
        "\n",
        "print('\\nSentence : ', Hindi_Sentence, '\\n')\n",
        "\n",
        "print('POS TAGS are : \\n')\n",
        "\n",
        "for i in Hindi_pos_tags:\n",
        "    print(i[0] + ' : ' + i[1] + '\\n')"
      ],
      "execution_count": null,
      "outputs": [
        {
          "output_type": "stream",
          "text": [
            "\n",
            "Sentence :  इस बार क्या होगा यह, उनके अलावा किसी को नहीं पता ! \n",
            "\n",
            "POS TAGS are : \n",
            "\n",
            "इस : PRP\n",
            "\n",
            "बार : NN\n",
            "\n",
            "क्या : QW\n",
            "\n",
            "होगा : VFM\n",
            "\n",
            "यह : PRP\n",
            "\n",
            "उनके : PRP\n",
            "\n",
            "अलावा : PREP\n",
            "\n",
            "किसी : QW\n",
            "\n",
            "को : PREP\n",
            "\n",
            "नहीं : NEG\n",
            "\n",
            "पता : NVB\n",
            "\n"
          ],
          "name": "stdout"
        }
      ]
    },
    {
      "cell_type": "code",
      "metadata": {
        "colab": {
          "base_uri": "https://localhost:8080/"
        },
        "id": "OHdxJp9owqOn",
        "outputId": "696b50da-9896-4901-d106-955a4c612f20"
      },
      "source": [
        "# For Marathi language\n",
        "\n",
        "from nltk.tag import tnt\n",
        "from nltk.corpus import indian\n",
        "import re\n",
        "import string\n",
        "\n",
        "marathi_train_data = indian.tagged_sents('marathi.pos')\n",
        "tnt_pos_tagger = tnt.TnT()\n",
        "tnt_pos_tagger.train(marathi_train_data)\n",
        "\n",
        "# Marathi Example 1\n",
        "\n",
        "Marathi_Sentence = \"माझे नाव पवन गोसावी आहे.\"\n",
        "# Marathi_Text = re.sub('।','', Marathi_Sentence)\n",
        "Marathi_Text = Marathi_Sentence.translate(str.maketrans('', '', string.punctuation))\n",
        "Marathi_Text = word_tokenize(Marathi_Text)\n",
        "Marathi_pos_tags = tnt_pos_tagger.tag(Marathi_Text)\n",
        "\n",
        "print('\\nSentence : ', Marathi_Sentence, '\\n')\n",
        "\n",
        "print('POS TAGS are : \\n')\n",
        "\n",
        "for i in Marathi_pos_tags:\n",
        "    print(i[0] + ' : ' + i[1] + '\\n')"
      ],
      "execution_count": null,
      "outputs": [
        {
          "output_type": "stream",
          "text": [
            "\n",
            "Sentence :  माझे नाव पवन गोसावी आहे. \n",
            "\n",
            "POS TAGS are : \n",
            "\n",
            "माझे : PRP\n",
            "\n",
            "नाव : NN\n",
            "\n",
            "पवन : Unk\n",
            "\n",
            "गोसावी : Unk\n",
            "\n",
            "आहे : VAUX\n",
            "\n"
          ],
          "name": "stdout"
        }
      ]
    },
    {
      "cell_type": "code",
      "metadata": {
        "colab": {
          "base_uri": "https://localhost:8080/"
        },
        "id": "kUowrUkW3fyd",
        "outputId": "36f0ae7f-3195-466e-bded-94f3d94332dc"
      },
      "source": [
        "# Marathi Example 2\n",
        "\n",
        "Marathi_Sentence = \"आयुष्य फार चांगले आहे, फक्त जेवण केले पाहिजे !\"\n",
        "# Marathi_Text = re.sub('।','', Marathi_Sentence)\n",
        "Marathi_Text = Marathi_Sentence.translate(str.maketrans('', '', string.punctuation))\n",
        "Marathi_Text = word_tokenize(Marathi_Text)\n",
        "Marathi_pos_tags = tnt_pos_tagger.tag(Marathi_Text)\n",
        "\n",
        "print('\\nSentence : ', Marathi_Sentence, '\\n')\n",
        "\n",
        "print('POS TAGS are : \\n')\n",
        "\n",
        "for i in Marathi_pos_tags:\n",
        "    print(i[0] + ' : ' + i[1] + '\\n')"
      ],
      "execution_count": null,
      "outputs": [
        {
          "output_type": "stream",
          "text": [
            "\n",
            "Sentence :  आयुष्य फार चांगले आहे, फक्त जेवण केले पाहिजे ! \n",
            "\n",
            "POS TAGS are : \n",
            "\n",
            "आयुष्य : Unk\n",
            "\n",
            "फार : INTF\n",
            "\n",
            "चांगले : JJ\n",
            "\n",
            "आहे : VM\n",
            "\n",
            "फक्त : QF\n",
            "\n",
            "जेवण : NN\n",
            "\n",
            "केले : VM\n",
            "\n",
            "पाहिजे : VAUX\n",
            "\n"
          ],
          "name": "stdout"
        }
      ]
    }
  ]
}
